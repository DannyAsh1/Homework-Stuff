{
 "cells": [
  {
   "cell_type": "code",
   "execution_count": 38,
   "id": "889d4241",
   "metadata": {},
   "outputs": [
    {
     "name": "stdout",
     "output_type": "stream",
     "text": [
      "Hello Sigmoid\n"
     ]
    }
   ],
   "source": [
    "print(\"Hello Sigmoid\")"
   ]
  },
  {
   "cell_type": "code",
   "execution_count": 39,
   "id": "cf41f685",
   "metadata": {},
   "outputs": [],
   "source": [
    "months_dict = {1 : 31, 2 : 28, 3 : 31, 4 : 30, 5 : 31, 6 : 30, 7 : 31, 8 : 31, 9 : 30, 10 : 31, 11 : 30, 12 : 31}"
   ]
  },
  {
   "cell_type": "code",
   "execution_count": 40,
   "id": "82781873",
   "metadata": {},
   "outputs": [
    {
     "data": {
      "text/plain": [
       "dict_values([31, 28, 31, 30, 31, 30, 31, 31, 30, 31, 30, 31])"
      ]
     },
     "execution_count": 40,
     "metadata": {},
     "output_type": "execute_result"
    }
   ],
   "source": [
    "months_dict.keys()\n",
    "months_dict.values()\n"
   ]
  },
  {
   "cell_type": "code",
   "execution_count": 42,
   "id": "ecb382de",
   "metadata": {},
   "outputs": [
    {
     "name": "stdout",
     "output_type": "stream",
     "text": [
      "Type the month in:\n",
      "3\n",
      "Type the year in:\n",
      "20220\n",
      "31\n"
     ]
    }
   ],
   "source": [
    "print(\"Type the month in:\")\n",
    "month = int(input())\n",
    "print(\"Type the year in:\")\n",
    "year = int(input())\n",
    "if year % 4 == 0 and month == 2:\n",
    "    print(months_dict[month] + 1) \n",
    "else:\n",
    "     print(months_dict[month])"
   ]
  }
 ],
 "metadata": {
  "kernelspec": {
   "display_name": "Python 3 (ipykernel)",
   "language": "python",
   "name": "python3"
  },
  "language_info": {
   "codemirror_mode": {
    "name": "ipython",
    "version": 3
   },
   "file_extension": ".py",
   "mimetype": "text/x-python",
   "name": "python",
   "nbconvert_exporter": "python",
   "pygments_lexer": "ipython3",
   "version": "3.7.8"
  }
 },
 "nbformat": 4,
 "nbformat_minor": 5
}
